{
 "cells": [
  {
   "cell_type": "code",
   "execution_count": 49,
   "metadata": {},
   "outputs": [],
   "source": [
    "import yfinance as yf\n",
    "import pandas as pd\n",
    "import datetime as dt\n",
    "import simfin as sf\n",
    "import tensorflow as tf\n",
    "import numpy as np\n",
    "import matplotlib.pyplot as plt\n",
    "\n",
    "\n",
    "plt.style.use('ggplot')"
   ]
  },
  {
   "cell_type": "code",
   "execution_count": 2,
   "metadata": {},
   "outputs": [],
   "source": [
    "# First load the Simfin file containing the data"
   ]
  },
  {
   "cell_type": "code",
   "execution_count": 54,
   "metadata": {},
   "outputs": [],
   "source": [
    "class Company():\n",
    "    def __init__(self, ticker, market='us'):\n",
    "        # Initialize the Simfin dataset\n",
    "        sf.set_data_dir('C:Users\\\\Andi\\\\Desktop\\\\Udemy\\\\Python-Notebook\\\\Finance\\\\tickers')\n",
    "        sf.set_api_key(api_key='free')\n",
    "        \n",
    "        # Attributes\n",
    "        self._ticker = ticker\n",
    "        self._company = yf.Ticker(self._ticker)\n",
    "        self._market = market\n",
    "        #self._market_cap\n",
    "        #self._beta\n",
    "        #self._shares_outstanding\n",
    "        #self._growth_perp\n",
    "        \n",
    "        # Revenue\n",
    "        self._revenue = self.income_sheet()['Revenue']\n",
    "        \n",
    "        self._growth_rate = self._revenue.pct_change(1)\n",
    "        \n",
    "        # Net Icome\n",
    "        self._net_income = self.income_sheet()['Net Income']\n",
    "        \n",
    "         # Cash flow from operating activities (cahflow)\n",
    "        self._CF_OA = self.cashflow()['Net Cash from Operating Activities']\n",
    "        \n",
    "         # Capital expenditures or also called Change in Fixed Assets & Intangibles (cashflow)\n",
    "        self._CAPEX = self.cashflow()['Change in Fixed Assets & Intangibles']\n",
    "        \n",
    "        # Free cash flow computed from CF_OA - CAPEX (it is already negative CAPEX so we use a positive sign)\n",
    "        self._FCF = self._CF_OA + self._CAPEX\n",
    "        \n",
    "        # Get the historical daily values since day 0\n",
    "        self._history = self._company.history(period=\"max\")\n",
    "        self._history.drop(columns=['Dividends', 'Stock Splits'], inplace=True)\n",
    "        \n",
    "        # Logaritmic return of the stcok since day 0: \n",
    "        self._log_return = np.log(self._history['Close']/self._history['Close'].shift(1))\n",
    "        \n",
    "        # Sharpe Ratio and Annual SR\n",
    "        self._sr = round(self.expected_return()/self.volatility(),2)\n",
    "        self._asr = round(self._sr*(252**0.5),2)\n",
    "        \n",
    "        # Expected Anual Volatility of the stock since day start_date\n",
    "    def volatility(self, weights = 1):\n",
    "        if weights == 1:\n",
    "            return round(self._log_return.std()*252,2)\n",
    "        return np.sqrt(np.dot(weights.T, np.dot(self._log_ret.cov()*252, weights)))\n",
    "    \n",
    "        # Expected anual return \n",
    "    def expected_return(self, weights=1):\n",
    "        if weights == 1:\n",
    "            return round(self._log_return.mean()*252,2)\n",
    "        \n",
    "        #else we have weights, i.e. we have more stocks\n",
    "        return np.sum(self._log_return.mean()*weights)*252\n",
    "        \n",
    "    def normed_return(self, open_buy, start_date =0):\n",
    "        if start_date !=0 and open_buy !=0:\n",
    "            return self._history.loc[start_date:]['Close']/open_buy\n",
    "        \n",
    "        if start_date !=0 and open_buy ==0:\n",
    "            return self._history.loc[start_date:]['Close']/self._history.loc[start_date]['Close']\n",
    "        \n",
    "        if start_date ==0 and open_buy ==0:\n",
    "            return self._history.loc['Close']/self._history.iloc[0]['Close']\n",
    "        \n",
    "        return self._history['Close']/open_buy\n",
    "        \n",
    "      \n",
    "    def open_position(self, start_date=0, allocation=1, amount_invested=1, open_buy=0):\n",
    "        position = self.normed_return(open_buy, start_date)*amount_invested*allocation\n",
    "        daily_return = position.pct_change(1)\n",
    "        daily_return_percentage = round(daily_return*100,2)\n",
    "        df = pd.concat([position, daily_return, daily_return_percentage], axis=1)\n",
    "        df.columns = ['Position '+self._ticker, 'Daily Return', 'Daily Return %']\n",
    "        return df\n",
    "        \n",
    "    def income_sheet(self, time='annual'):\n",
    "        columns = ['Revenue', 'Cost of Revenue', 'Gross Profit', 'Operating Expenses', 'Income Tax (Expense) Benefit, Net', \n",
    "                   'Operating Income (Loss)','Net Income','Pretax Income (Loss)']\n",
    "        income_sheet_df = sf.load_income(variant=time, market= self._market).loc[self._ticker][columns]\n",
    "        income_sheet_df.fillna(0, inplace=True)\n",
    "        \n",
    "        return income_sheet_df\n",
    "        \n",
    "    def balance_sheet(self,time='annual'):\n",
    "        balance_sheet_df = sf.load_balance(variant=time, market= self._market).loc[self._ticker, 'Cash, Cash Equivalents & Short Term Investments':]\n",
    "        balance_sheet_df.fillna(0,inplace=True)\n",
    "                                                                                    \n",
    "    \n",
    "    \n",
    "    def cashflow(self,time='annual'):\n",
    "        cash_flow_df = sf.load_cashflow(variant=time, market= self._market).loc[self._ticker, 'Net Income/Starting Line':]\n",
    "        cash_flow_df.drop(['Change in Accounts Receivable','Change in Other', \\\n",
    "                           'Change in Accounts Payable', 'Change in Inventories'], axis = 1, inplace=True)\n",
    "        cahs_flow_df = cash_flow_df.fillna(0, inplace=True)\n",
    "        return cash_flow_df\n",
    "        \n",
    "    def info(self):\n",
    "        return self._company.info\n",
    "        \n",
    "    def plot():\n",
    "        pass\n",
    "    \n",
    "    def valuation_method(self, method =\"DCF\"):\n",
    "        \n",
    "        def DCF(self):\n",
    "            # We use the Discounted Cash Flow valuation model in order to estimate the Intrinsic Value\n",
    "            pass\n",
    "        \n",
    "        if method == 'DCF':\n",
    "            pass\n",
    "        \n",
    "    \n",
    "        def Earnings_valuation(self):\n",
    "            pass\n",
    "        \n",
    "    \n",
    "        \n",
    "      \n",
    "    @staticmethod\n",
    "    def optimize_portfolio( stocks, amount_invested, sim=1500): # stocks is a list of Company objects ex: [aapl, air]\n",
    "        #Preprocess the historical values in order to have the same length: we take the most recent date as starting date\n",
    "        min_len = float('inf')\n",
    "        index = 0\n",
    "        for i in range(len(stocks)):\n",
    "            if len(stocks[i]._history) < min_len:\n",
    "                min_len = len(stocks[i]._history)\n",
    "                index = i\n",
    "        \n",
    "        start_date = stocks[index]._history.index[0]\n",
    "        \n",
    "        # Assert the stocks have same length, i.e. same historical data\n",
    "        for ele in [len(i._history.loc[start_date:]) for i in stocks]:\n",
    "            assert ele == len(stocks[index]._history), \"Historical data must have the same length\"\n",
    "        \n",
    "        # Construct the Data frame Portfolio and another dataframe with the stocks_Close Close Price\n",
    "        portfolio = pd.DataFrame({})\n",
    "        stocks_Close = pd.DataFrame({})\n",
    "        for i in range(len(stocks)):\n",
    "            portfolio[stocks[i]._ticker+' Position'] = stocks[i].open_position(start_date=start_date)['Position '+stocks[i]._ticker]\n",
    "            stocks_Close[stocks[i]._ticker+' Close'] = stocks[i]._history['Close']\n",
    "            \n",
    "       \n",
    "        # Print the portfolio\n",
    "        print('Portfolio stocks: ')\n",
    "        for ele in stocks:\n",
    "            print( \"%s \" %ele._ticker)\n",
    "        \n",
    "        # Define the Total position of your portfolio\n",
    "        portfolio['Total Position'] = portfolio.sum(axis=1)\n",
    "        # The Daily return\n",
    "        portfolio['Daily return'] = portfolio['Total Position'].pct_change(1)\n",
    "        portfolio['Daily return %'] = round(portfolio['Daily return']*100,2)\n",
    "        \n",
    "        # Define the logarithmic daily return wrt the stocks Close price (easier to work with the log one)\n",
    "        stocks_log_dr = np.log(stocks_Close/stocks_Close.shift(1))\n",
    "        \n",
    "        \n",
    "        # Defining the arrays that will contain the values\n",
    "        allocation_arr = np.zeros((sim, len(stocks)))\n",
    "        ex_return_arr = np.zeros(sim)\n",
    "        volatility_arr = np.zeros(sim)\n",
    "        sharpe_arr = np.zeros(sim)\n",
    "        \n",
    "        #Lunch the simulations\n",
    "        for simu in range(sim):\n",
    "            #Generate a random allocation/WEIGHTS\n",
    "            allocation = np.array(np.random.random(len(stocks)))\n",
    "            # Rebalance the weights such that their sum is = 1\n",
    "            allocation = allocation/np.sum(allocation)\n",
    "            # Assign the current allocation to the array\n",
    "            allocation_arr[simu, :]= allocation\n",
    "            \n",
    "            # EXPECTED RETURN \n",
    "            ex_return_arr[simu] = np.sum(stocks_log_dr.mean()*allocation)*252\n",
    "            \n",
    "            # EXPECTED VOLATILITY\n",
    "            volatility_arr[simu] = np.sqrt(np.dot(allocation.T, np.dot(stocks_log_dr.cov()*252, allocation)))\n",
    "            \n",
    "            # SHARPE RATIO\n",
    "            sharpe_arr[simu] = ex_return_arr[simu]/volatility_arr[simu]\n",
    "            \n",
    "        # MAX SR\n",
    "        print(\"The maximal value of Sharpe Ration is: %f\" %sharpe_arr.max())\n",
    "        \n",
    "        # Find the optimal values of return and volatility that gives the max SR \n",
    "        optimal_return = ex_return_arr[sharpe_arr.argmax()]\n",
    "        optimal_volatility = volatility_arr[sharpe_arr.argmax()]\n",
    "        \n",
    "        # OPTIMAL ALLOCATION\n",
    "        print(\"The optimal allocation is: \")\n",
    "        i = 0\n",
    "        for ele in allocation_arr[sharpe_arr.argmax(), :]:\n",
    "            print(stocks[i]._ticker +':'+ str(round(ele,2)))\n",
    "            i +=1\n",
    "            \n",
    "        # Print RETURN vs VOLATILITY with SR colorbar\n",
    "        plt.figure(figsize=(12,8))\n",
    "        plt.scatter(volatility_arr, ex_return_arr, c= sharpe_arr, cmap='plasma')\n",
    "        plt.colorbar(label='Sharpe Ratio')\n",
    "        plt.xlabel('Volatility')\n",
    "        plt.ylabel('Return')\n",
    "\n",
    "        plt.scatter(optimal_volatility, optimal_return, c='red', s=50, edgecolors='black')\n",
    "        \n",
    "        \n",
    "        return\n",
    "    \n",
    "    def estimate(self, n_years, method='linear'):\n",
    "        \n",
    "        def linear():\n",
    "            pass\n",
    "        \n",
    "        def DNN():\n",
    "            pass"
   ]
  },
  {
   "cell_type": "code",
   "execution_count": 59,
   "metadata": {},
   "outputs": [
    {
     "name": "stdout",
     "output_type": "stream",
     "text": [
      "Dataset \"us-income-annual\" on disk (7 days old).\n",
      "- Loading from disk ... Done!\n",
      "Dataset \"us-income-annual\" on disk (7 days old).\n",
      "- Loading from disk ... Done!\n",
      "Dataset \"us-cashflow-annual\" on disk (7 days old).\n",
      "- Loading from disk ... Done!\n",
      "Dataset \"us-cashflow-annual\" on disk (7 days old).\n",
      "- Loading from disk ... Done!\n",
      "Dataset \"us-income-annual\" on disk (7 days old).\n",
      "- Loading from disk ... Done!\n",
      "Dataset \"us-income-annual\" on disk (7 days old).\n",
      "- Loading from disk ... Done!\n",
      "Dataset \"us-cashflow-annual\" on disk (7 days old).\n",
      "- Loading from disk ... Done!\n",
      "Dataset \"us-cashflow-annual\" on disk (7 days old).\n",
      "- Loading from disk ... Done!\n",
      "Dataset \"us-income-annual\" on disk (7 days old).\n",
      "- Loading from disk ... Done!\n",
      "Dataset \"us-income-annual\" on disk (7 days old).\n",
      "- Loading from disk ... Done!\n",
      "Dataset \"us-cashflow-annual\" on disk (7 days old).\n",
      "- Loading from disk ... Done!\n",
      "Dataset \"us-cashflow-annual\" on disk (7 days old).\n",
      "- Loading from disk ... Done!\n"
     ]
    }
   ],
   "source": [
    "aapl = Company(\"AAPL\")\n",
    "goo = Company(\"GOOG\")\n",
    "mic = Company(\"MSFT\")"
   ]
  },
  {
   "cell_type": "code",
   "execution_count": 62,
   "metadata": {},
   "outputs": [
    {
     "data": {
      "text/plain": [
       "'us'"
      ]
     },
     "execution_count": 62,
     "metadata": {},
     "output_type": "execute_result"
    }
   ],
   "source": [
    "aapl._market\n"
   ]
  },
  {
   "cell_type": "code",
   "execution_count": 60,
   "metadata": {},
   "outputs": [],
   "source": [
    "stocks = [goo, aapl, mic]"
   ]
  },
  {
   "cell_type": "code",
   "execution_count": 61,
   "metadata": {},
   "outputs": [
    {
     "name": "stdout",
     "output_type": "stream",
     "text": [
      "Portfolio stocks: \n",
      "GOOG \n",
      "AAPL \n",
      "MSFT \n",
      "The maximal value of Sharpe Ration is: 1.047878\n",
      "The optimal allocation is: \n",
      "GOOG:0.26\n",
      "AAPL:0.74\n",
      "MSFT:0.01\n"
     ]
    },
    {
     "data": {
      "image/png": "[encoded data removed]",
      "text/plain": [
       "<Figure size 864x576 with 2 Axes>"
      ]
     },
     "metadata": {},
     "output_type": "display_data"
    }
   ],
   "source": [
    "po = aapl.optimize_portfolio(stocks, 2)"
   ]
  },
  {
   "cell_type": "code",
   "execution_count": 211,
   "metadata": {},
   "outputs": [
    {
     "data": {
      "text/html": [
       "<div>\n",
       "<style scoped>\n",
       "    .dataframe tbody tr th:only-of-type {\n",
       "        vertical-align: middle;\n",
       "    }\n",
       "\n",
       "    .dataframe tbody tr th {\n",
       "        vertical-align: top;\n",
       "    }\n",
       "\n",
       "    .dataframe thead th {\n",
       "        text-align: right;\n",
       "    }\n",
       "</style>\n",
       "<table border=\"1\" class=\"dataframe\">\n",
       "  <thead>\n",
       "    <tr style=\"text-align: right;\">\n",
       "      <th></th>\n",
       "      <th>GOOG Position</th>\n",
       "      <th>AAPL Position</th>\n",
       "    </tr>\n",
       "    <tr>\n",
       "      <th>Date</th>\n",
       "      <th></th>\n",
       "      <th></th>\n",
       "    </tr>\n",
       "  </thead>\n",
       "  <tbody>\n",
       "    <tr>\n",
       "      <th>2004-08-19</th>\n",
       "      <td>1.000000</td>\n",
       "      <td>1.000000</td>\n",
       "    </tr>\n",
       "    <tr>\n",
       "      <th>2004-08-20</th>\n",
       "      <td>1.079430</td>\n",
       "      <td>1.002931</td>\n",
       "    </tr>\n",
       "    <tr>\n",
       "      <th>2004-08-23</th>\n",
       "      <td>1.090293</td>\n",
       "      <td>1.012049</td>\n",
       "    </tr>\n",
       "    <tr>\n",
       "      <th>2004-08-24</th>\n",
       "      <td>1.045146</td>\n",
       "      <td>1.040378</td>\n",
       "    </tr>\n",
       "    <tr>\n",
       "      <th>2004-08-25</th>\n",
       "      <td>1.056408</td>\n",
       "      <td>1.076197</td>\n",
       "    </tr>\n",
       "    <tr>\n",
       "      <th>...</th>\n",
       "      <td>...</td>\n",
       "      <td>...</td>\n",
       "    </tr>\n",
       "    <tr>\n",
       "      <th>2020-11-24</th>\n",
       "      <td>35.389877</td>\n",
       "      <td>245.444819</td>\n",
       "    </tr>\n",
       "    <tr>\n",
       "      <th>2020-11-25</th>\n",
       "      <td>35.440896</td>\n",
       "      <td>247.277611</td>\n",
       "    </tr>\n",
       "    <tr>\n",
       "      <th>2020-11-27</th>\n",
       "      <td>35.876245</td>\n",
       "      <td>248.471051</td>\n",
       "    </tr>\n",
       "    <tr>\n",
       "      <th>2020-11-30</th>\n",
       "      <td>35.227020</td>\n",
       "      <td>253.713700</td>\n",
       "    </tr>\n",
       "    <tr>\n",
       "      <th>2020-12-01</th>\n",
       "      <td>36.182967</td>\n",
       "      <td>262.334208</td>\n",
       "    </tr>\n",
       "  </tbody>\n",
       "</table>\n",
       "<p>4101 rows × 2 columns</p>\n",
       "</div>"
      ],
      "text/plain": [
       "            GOOG Position  AAPL Position\n",
       "Date                                    \n",
       "2004-08-19       1.000000       1.000000\n",
       "2004-08-20       1.079430       1.002931\n",
       "2004-08-23       1.090293       1.012049\n",
       "2004-08-24       1.045146       1.040378\n",
       "2004-08-25       1.056408       1.076197\n",
       "...                   ...            ...\n",
       "2020-11-24      35.389877     245.444819\n",
       "2020-11-25      35.440896     247.277611\n",
       "2020-11-27      35.876245     248.471051\n",
       "2020-11-30      35.227020     253.713700\n",
       "2020-12-01      36.182967     262.334208\n",
       "\n",
       "[4101 rows x 2 columns]"
      ]
     },
     "execution_count": 211,
     "metadata": {},
     "output_type": "execute_result"
    }
   ],
   "source": [
    "po"
   ]
  },
  {
   "cell_type": "code",
   "execution_count": 144,
   "metadata": {},
   "outputs": [
    {
     "data": {
      "text/plain": [
       "1"
      ]
     },
     "execution_count": 144,
     "metadata": {},
     "output_type": "execute_result"
    }
   ],
   "source": [
    "index"
   ]
  },
  {
   "cell_type": "code",
   "execution_count": 145,
   "metadata": {},
   "outputs": [
    {
     "data": {
      "text/plain": [
       "Timestamp('2004-08-19 00:00:00')"
      ]
     },
     "execution_count": 145,
     "metadata": {},
     "output_type": "execute_result"
    }
   ],
   "source": [
    "\n",
    "start_date"
   ]
  },
  {
   "cell_type": "code",
   "execution_count": 170,
   "metadata": {},
   "outputs": [
    {
     "data": {
      "text/html": [
       "<div>\n",
       "<style scoped>\n",
       "    .dataframe tbody tr th:only-of-type {\n",
       "        vertical-align: middle;\n",
       "    }\n",
       "\n",
       "    .dataframe tbody tr th {\n",
       "        vertical-align: top;\n",
       "    }\n",
       "\n",
       "    .dataframe thead th {\n",
       "        text-align: right;\n",
       "    }\n",
       "</style>\n",
       "<table border=\"1\" class=\"dataframe\">\n",
       "  <thead>\n",
       "    <tr style=\"text-align: right;\">\n",
       "      <th></th>\n",
       "      <th>Open</th>\n",
       "      <th>High</th>\n",
       "      <th>Low</th>\n",
       "      <th>Close</th>\n",
       "      <th>Volume</th>\n",
       "    </tr>\n",
       "    <tr>\n",
       "      <th>Date</th>\n",
       "      <th></th>\n",
       "      <th></th>\n",
       "      <th></th>\n",
       "      <th></th>\n",
       "      <th></th>\n",
       "    </tr>\n",
       "  </thead>\n",
       "  <tbody>\n",
       "    <tr>\n",
       "      <th>2004-08-19</th>\n",
       "      <td>49.813286</td>\n",
       "      <td>51.835709</td>\n",
       "      <td>47.800831</td>\n",
       "      <td>49.982655</td>\n",
       "      <td>44871300</td>\n",
       "    </tr>\n",
       "    <tr>\n",
       "      <th>2004-08-20</th>\n",
       "      <td>50.316402</td>\n",
       "      <td>54.336334</td>\n",
       "      <td>50.062355</td>\n",
       "      <td>53.952770</td>\n",
       "      <td>22942800</td>\n",
       "    </tr>\n",
       "    <tr>\n",
       "      <th>2004-08-23</th>\n",
       "      <td>55.168217</td>\n",
       "      <td>56.528118</td>\n",
       "      <td>54.321388</td>\n",
       "      <td>54.495735</td>\n",
       "      <td>18342800</td>\n",
       "    </tr>\n",
       "    <tr>\n",
       "      <th>2004-08-24</th>\n",
       "      <td>55.412300</td>\n",
       "      <td>55.591629</td>\n",
       "      <td>51.591621</td>\n",
       "      <td>52.239193</td>\n",
       "      <td>15319700</td>\n",
       "    </tr>\n",
       "    <tr>\n",
       "      <th>2004-08-25</th>\n",
       "      <td>52.284027</td>\n",
       "      <td>53.798351</td>\n",
       "      <td>51.746044</td>\n",
       "      <td>52.802086</td>\n",
       "      <td>9232100</td>\n",
       "    </tr>\n",
       "    <tr>\n",
       "      <th>...</th>\n",
       "      <td>...</td>\n",
       "      <td>...</td>\n",
       "      <td>...</td>\n",
       "      <td>...</td>\n",
       "      <td>...</td>\n",
       "    </tr>\n",
       "    <tr>\n",
       "      <th>2020-11-24</th>\n",
       "      <td>1730.500000</td>\n",
       "      <td>1771.599976</td>\n",
       "      <td>1727.689941</td>\n",
       "      <td>1768.880005</td>\n",
       "      <td>1578000</td>\n",
       "    </tr>\n",
       "    <tr>\n",
       "      <th>2020-11-25</th>\n",
       "      <td>1772.890015</td>\n",
       "      <td>1778.540039</td>\n",
       "      <td>1756.540039</td>\n",
       "      <td>1771.430054</td>\n",
       "      <td>1045800</td>\n",
       "    </tr>\n",
       "    <tr>\n",
       "      <th>2020-11-27</th>\n",
       "      <td>1773.089966</td>\n",
       "      <td>1804.000000</td>\n",
       "      <td>1772.439941</td>\n",
       "      <td>1793.189941</td>\n",
       "      <td>884900</td>\n",
       "    </tr>\n",
       "    <tr>\n",
       "      <th>2020-11-30</th>\n",
       "      <td>1781.183960</td>\n",
       "      <td>1788.064941</td>\n",
       "      <td>1755.000000</td>\n",
       "      <td>1760.739990</td>\n",
       "      <td>1821900</td>\n",
       "    </tr>\n",
       "    <tr>\n",
       "      <th>2020-12-01</th>\n",
       "      <td>1774.369995</td>\n",
       "      <td>1824.829956</td>\n",
       "      <td>1769.369995</td>\n",
       "      <td>1811.180054</td>\n",
       "      <td>1114342</td>\n",
       "    </tr>\n",
       "  </tbody>\n",
       "</table>\n",
       "<p>4101 rows × 5 columns</p>\n",
       "</div>"
      ],
      "text/plain": [
       "                   Open         High          Low        Close    Volume\n",
       "Date                                                                    \n",
       "2004-08-19    49.813286    51.835709    47.800831    49.982655  44871300\n",
       "2004-08-20    50.316402    54.336334    50.062355    53.952770  22942800\n",
       "2004-08-23    55.168217    56.528118    54.321388    54.495735  18342800\n",
       "2004-08-24    55.412300    55.591629    51.591621    52.239193  15319700\n",
       "2004-08-25    52.284027    53.798351    51.746044    52.802086   9232100\n",
       "...                 ...          ...          ...          ...       ...\n",
       "2020-11-24  1730.500000  1771.599976  1727.689941  1768.880005   1578000\n",
       "2020-11-25  1772.890015  1778.540039  1756.540039  1771.430054   1045800\n",
       "2020-11-27  1773.089966  1804.000000  1772.439941  1793.189941    884900\n",
       "2020-11-30  1781.183960  1788.064941  1755.000000  1760.739990   1821900\n",
       "2020-12-01  1774.369995  1824.829956  1769.369995  1811.180054   1114342\n",
       "\n",
       "[4101 rows x 5 columns]"
      ]
     },
     "execution_count": 170,
     "metadata": {},
     "output_type": "execute_result"
    }
   ],
   "source": [
    "goo._history"
   ]
  },
  {
   "cell_type": "code",
   "execution_count": 134,
   "metadata": {},
   "outputs": [
    {
     "data": {
      "text/plain": [
       "range(0, 2)"
      ]
     },
     "execution_count": 134,
     "metadata": {},
     "output_type": "execute_result"
    }
   ],
   "source": [
    "range(len(stocks))"
   ]
  },
  {
   "cell_type": "code",
   "execution_count": 157,
   "metadata": {},
   "outputs": [],
   "source": [
    "data = aapl._history.pop('Open')"
   ]
  },
  {
   "cell_type": "code",
   "execution_count": 167,
   "metadata": {},
   "outputs": [],
   "source": [
    "data= pd.DataFrame({})"
   ]
  },
  {
   "cell_type": "code",
   "execution_count": 171,
   "metadata": {},
   "outputs": [],
   "source": [
    "data['fgd'] = aapl._history['Low']"
   ]
  },
  {
   "cell_type": "code",
   "execution_count": 172,
   "metadata": {},
   "outputs": [
    {
     "data": {
      "text/html": [
       "<div>\n",
       "<style scoped>\n",
       "    .dataframe tbody tr th:only-of-type {\n",
       "        vertical-align: middle;\n",
       "    }\n",
       "\n",
       "    .dataframe tbody tr th {\n",
       "        vertical-align: top;\n",
       "    }\n",
       "\n",
       "    .dataframe thead th {\n",
       "        text-align: right;\n",
       "    }\n",
       "</style>\n",
       "<table border=\"1\" class=\"dataframe\">\n",
       "  <thead>\n",
       "    <tr style=\"text-align: right;\">\n",
       "      <th></th>\n",
       "      <th>fgd</th>\n",
       "    </tr>\n",
       "    <tr>\n",
       "      <th>Date</th>\n",
       "      <th></th>\n",
       "    </tr>\n",
       "  </thead>\n",
       "  <tbody>\n",
       "    <tr>\n",
       "      <th>1980-12-12</th>\n",
       "      <td>0.100266</td>\n",
       "    </tr>\n",
       "    <tr>\n",
       "      <th>1980-12-15</th>\n",
       "      <td>0.095035</td>\n",
       "    </tr>\n",
       "    <tr>\n",
       "      <th>1980-12-16</th>\n",
       "      <td>0.088059</td>\n",
       "    </tr>\n",
       "    <tr>\n",
       "      <th>1980-12-17</th>\n",
       "      <td>0.090239</td>\n",
       "    </tr>\n",
       "    <tr>\n",
       "      <th>1980-12-18</th>\n",
       "      <td>0.092855</td>\n",
       "    </tr>\n",
       "    <tr>\n",
       "      <th>...</th>\n",
       "      <td>...</td>\n",
       "    </tr>\n",
       "    <tr>\n",
       "      <th>2020-11-24</th>\n",
       "      <td>112.589996</td>\n",
       "    </tr>\n",
       "    <tr>\n",
       "      <th>2020-11-25</th>\n",
       "      <td>115.169998</td>\n",
       "    </tr>\n",
       "    <tr>\n",
       "      <th>2020-11-27</th>\n",
       "      <td>116.220001</td>\n",
       "    </tr>\n",
       "    <tr>\n",
       "      <th>2020-11-30</th>\n",
       "      <td>116.809998</td>\n",
       "    </tr>\n",
       "    <tr>\n",
       "      <th>2020-12-01</th>\n",
       "      <td>120.010002</td>\n",
       "    </tr>\n",
       "  </tbody>\n",
       "</table>\n",
       "<p>10078 rows × 1 columns</p>\n",
       "</div>"
      ],
      "text/plain": [
       "                   fgd\n",
       "Date                  \n",
       "1980-12-12    0.100266\n",
       "1980-12-15    0.095035\n",
       "1980-12-16    0.088059\n",
       "1980-12-17    0.090239\n",
       "1980-12-18    0.092855\n",
       "...                ...\n",
       "2020-11-24  112.589996\n",
       "2020-11-25  115.169998\n",
       "2020-11-27  116.220001\n",
       "2020-11-30  116.809998\n",
       "2020-12-01  120.010002\n",
       "\n",
       "[10078 rows x 1 columns]"
      ]
     },
     "execution_count": 172,
     "metadata": {},
     "output_type": "execute_result"
    }
   ],
   "source": [
    "data"
   ]
  },
  {
   "cell_type": "code",
   "execution_count": 4,
   "metadata": {},
   "outputs": [],
   "source": [
    "arr = [1,2,3,4,5]"
   ]
  },
  {
   "cell_type": "code",
   "execution_count": 5,
   "metadata": {},
   "outputs": [
    {
     "name": "stdout",
     "output_type": "stream",
     "text": [
      "3\n",
      "4\n",
      "5\n"
     ]
    }
   ],
   "source": [
    "for ele in arr[2:]:\n",
    "    print(ele)"
   ]
  },
  {
   "cell_type": "code",
   "execution_count": 31,
   "metadata": {},
   "outputs": [
    {
     "data": {
      "text/plain": [
       "1"
      ]
     },
     "execution_count": 31,
     "metadata": {},
     "output_type": "execute_result"
    }
   ],
   "source": [
    "arr[0]"
   ]
  },
  {
   "cell_type": "code",
   "execution_count": null,
   "metadata": {},
   "outputs": [],
   "source": []
  }
 ],
 "metadata": {
  "kernelspec": {
   "display_name": "Python 3",
   "language": "python",
   "name": "python3"
  },
  "language_info": {
   "codemirror_mode": {
    "name": "ipython",
    "version": 3
   },
   "file_extension": ".py",
   "mimetype": "text/x-python",
   "name": "python",
   "nbconvert_exporter": "python",
   "pygments_lexer": "ipython3",
   "version": "3.7.6"
  }
 },
 "nbformat": 4,
 "nbformat_minor": 4
}
